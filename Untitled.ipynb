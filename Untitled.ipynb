{
 "cells": [
  {
   "cell_type": "code",
   "execution_count": 4,
   "id": "bcf991c5-5f10-45c4-a391-926a50d1eae3",
   "metadata": {},
   "outputs": [
    {
     "name": "stdout",
     "output_type": "stream",
     "text": [
      "Test Accuracy: 1.0000\n",
      "Model and label encoders saved!\n"
     ]
    }
   ],
   "source": [
    "import pandas as pd\n",
    "from sklearn.model_selection import train_test_split\n",
    "from sklearn.ensemble import RandomForestClassifier\n",
    "from sklearn.preprocessing import LabelEncoder\n",
    "import joblib\n",
    "\n",
    "# Load the mushroom dataset CSV (replace with your file path)\n",
    "# Example dataset: https://archive.ics.uci.edu/ml/machine-learning-databases/mushroom/agaricus-lepiota.data\n",
    "# You should download and place locally as 'mushrooms.csv'\n",
    "df = pd.read_csv('C://Users//hp//OneDrive//Documents//mushroom//mushrooms.csv', header=None)\n",
    "\n",
    "# Assign column names (based on UCI Mushroom dataset)\n",
    "df.columns = [\n",
    "    'class', 'cap_shape', 'cap_surface', 'cap_color', 'bruises', 'odor',\n",
    "    'gill_attachment', 'gill_spacing', 'gill_size', 'gill_color',\n",
    "    'stalk_shape', 'stalk_root', 'stalk_surface_above_ring',\n",
    "    'stalk_surface_below_ring', 'stalk_color_above_ring',\n",
    "    'stalk_color_below_ring', 'veil_type', 'veil_color',\n",
    "    'ring_number', 'ring_type', 'spore_print_color', 'population', 'habitat'\n",
    "]\n",
    "\n",
    "# Separate features and target\n",
    "X = df.drop('class', axis=1)\n",
    "y = df['class']  # 'e' = edible, 'p' = poisonous\n",
    "\n",
    "# Encode categorical features using LabelEncoder for each column\n",
    "label_encoders = {}\n",
    "for col in X.columns:\n",
    "    le = LabelEncoder()\n",
    "    X[col] = le.fit_transform(X[col])\n",
    "    label_encoders[col] = le\n",
    "\n",
    "# Encode target variable\n",
    "target_le = LabelEncoder()\n",
    "y_encoded = target_le.fit_transform(y)\n",
    "\n",
    "# Split train-test\n",
    "X_train, X_test, y_train, y_test = train_test_split(X, y_encoded, test_size=0.2, random_state=42)\n",
    "\n",
    "# Train a RandomForestClassifier\n",
    "model = RandomForestClassifier(n_estimators=100, random_state=42)\n",
    "model.fit(X_train, y_train)\n",
    "\n",
    "# Evaluate accuracy\n",
    "accuracy = model.score(X_test, y_test)\n",
    "print(f\"Test Accuracy: {accuracy:.4f}\")\n",
    "\n",
    "# Save model and encoders\n",
    "joblib.dump(model, 'mushroom_model.joblib')\n",
    "# Save label encoders including target encoder in one dictionary\n",
    "label_encoders['class'] = target_le\n",
    "joblib.dump(label_encoders, 'label_encoders.joblib')\n",
    "\n",
    "print(\"Model and label encoders saved!\")\n"
   ]
  },
  {
   "cell_type": "code",
   "execution_count": null,
   "id": "d0920438-2c54-4789-ac6f-aa998a9c23ce",
   "metadata": {},
   "outputs": [],
   "source": []
  }
 ],
 "metadata": {
  "kernelspec": {
   "display_name": "Python 3 (ipykernel)",
   "language": "python",
   "name": "python3"
  },
  "language_info": {
   "codemirror_mode": {
    "name": "ipython",
    "version": 3
   },
   "file_extension": ".py",
   "mimetype": "text/x-python",
   "name": "python",
   "nbconvert_exporter": "python",
   "pygments_lexer": "ipython3",
   "version": "3.12.7"
  }
 },
 "nbformat": 4,
 "nbformat_minor": 5
}
